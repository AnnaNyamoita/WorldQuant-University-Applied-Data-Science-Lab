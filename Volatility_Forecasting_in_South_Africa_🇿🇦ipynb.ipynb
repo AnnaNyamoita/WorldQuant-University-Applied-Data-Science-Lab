{
  "nbformat": 4,
  "nbformat_minor": 0,
  "metadata": {
    "colab": {
      "provenance": []
    },
    "kernelspec": {
      "name": "python3",
      "display_name": "Python 3"
    },
    "language_info": {
      "name": "python"
    }
  },
  "cells": [
    {
      "cell_type": "code",
      "execution_count": null,
      "metadata": {
        "id": "WJb9b-OZR8C-"
      },
      "outputs": [],
      "source": [
        "# Import your libraries here\n",
        "%load_ext autoreload\n",
        "%autoreload 2\n",
        "\n",
        "import os\n",
        "import sqlite3\n",
        "from glob import glob\n",
        "\n",
        "import joblib\n",
        "import pandas as pd\n",
        "import requests\n",
        "import wqet_grader\n",
        "from arch.univariate.base import ARCHModelResult\n",
        "from config import settings\n",
        "from data import SQLRepository"
      ]
    },
    {
      "cell_type": "markdown",
      "source": [
        "Working with APIs"
      ],
      "metadata": {
        "id": "etaFpS_9SINZ"
      }
    },
    {
      "cell_type": "code",
      "source": [
        "ticker = \"MTNOY\"\n",
        "output_size = \"full\"\n",
        "data_type = \"json\"\n",
        "\n",
        "url = (\n",
        "   \"https://learn-api.wqu.edu/1/data-services/alpha-vantage/query?\"\n",
        "    \"function=TIME_SERIES_DAILY&\"\n",
        "    f\"symbol={ticker}&\"\n",
        "    f\"outputsize={output_size}&\"\n",
        "    f\"datatype={data_type}&\"\n",
        "    f\"apikey={settings.alpha_api_key}\"\n",
        ")\n",
        "\n",
        "print(\"url type:\", type(url))\n",
        "url"
      ],
      "metadata": {
        "id": "fvx4UM6TSFGQ"
      },
      "execution_count": null,
      "outputs": []
    },
    {
      "cell_type": "markdown",
      "source": [
        "Create an HTTP request for the URL you created in the previous task. The grader will evaluate your work by looking at the ticker symbol in the \"Meta Data\" key-value pair in your response.\n"
      ],
      "metadata": {
        "id": "X49ZCv5MSPTV"
      }
    },
    {
      "cell_type": "code",
      "source": [
        "response = requests.get(url = url)\n",
        "\n",
        "print(\"response type:\", type(response))"
      ],
      "metadata": {
        "id": "BEcFSRBKSFJS"
      },
      "execution_count": null,
      "outputs": []
    },
    {
      "cell_type": "markdown",
      "source": [
        "Get status code of your response and assign it to the variable response_code"
      ],
      "metadata": {
        "id": "-7c6iu4jSV7f"
      }
    },
    {
      "cell_type": "code",
      "source": [
        "response_code = response.status_code\n",
        "\n",
        "print(\"code type:\", type(response_code))\n",
        "response_code"
      ],
      "metadata": {
        "id": "rRpLzcNMSFMM"
      },
      "execution_count": null,
      "outputs": []
    },
    {
      "cell_type": "markdown",
      "source": [
        "Test-Driven Development -ETL"
      ],
      "metadata": {
        "id": "kC_BibRJScEW"
      }
    },
    {
      "cell_type": "markdown",
      "source": [
        "Create a DataFrame df_mtnoy with all the stock data for MTN. Make sure that the DataFrame has the correct type of index and column names. The grader will evaluate your work by looking at the row in df_mtnoy for 6 December 2021."
      ],
      "metadata": {
        "id": "Puc_EWS7SgdW"
      }
    },
    {
      "cell_type": "code",
      "source": [
        "response_data = response.json()\n",
        "stock_data = response_data[\"Time Series (Daily)\"]\n",
        "df_mtnoy = pd.DataFrame.from_dict(stock_data,orient= \"index\", dtype =float)\n",
        "\n",
        "print(\"df_mtnoy type:\", type(df_mtnoy))\n",
        "df_mtnoy.head()"
      ],
      "metadata": {
        "id": "lYbQEP25SFQp"
      },
      "execution_count": null,
      "outputs": []
    },
    {
      "cell_type": "markdown",
      "source": [],
      "metadata": {
        "id": "OZwnasbWSkMW"
      }
    },
    {
      "cell_type": "code",
      "source": [
        "from data import AlphaVantageAPI\n",
        "\n",
        "# Create instance of `AlphaVantageAPI` class\n",
        "av = AlphaVantageAPI()\n",
        "# Define Suzlon ticker symbol\n",
        "\n",
        "ticker = \"MTNOY\"\n",
        "\n",
        "# Use your `av` object to get daily data\n",
        "df_mtnoy = av.get_daily(ticker=ticker)\n",
        "\n",
        "print(\"df_mtnoy type:\", type(df_mtnoy))\n",
        "df_mtnoy.head()"
      ],
      "metadata": {
        "id": "btVSyRQmSkdW"
      },
      "execution_count": null,
      "outputs": []
    },
    {
      "cell_type": "markdown",
      "source": [
        "Connect to the database whose name is stored in the .env file for this project. Be sure to set the check_same_thread argument to False. Assign the connection to the variable connection. The grader will evaluate your work by looking at the database location assigned to connection."
      ],
      "metadata": {
        "id": "XQ33SkR9SkpG"
      }
    },
    {
      "cell_type": "code",
      "source": [
        "connection = sqlite3.connect(database=settings.db_name, check_same_thread=False)\n",
        "connection"
      ],
      "metadata": {
        "id": "JBUyJJG3Sky_"
      },
      "execution_count": null,
      "outputs": []
    },
    {
      "cell_type": "markdown",
      "source": [],
      "metadata": {
        "id": "RmLMjqqnSk7W"
      }
    },
    {
      "cell_type": "code",
      "source": [
        "# Insert `MTNOY` data into database\n",
        "# Import class definition\n",
        "from data import SQLRepository\n",
        "\n",
        "# Create instance of class\n",
        "repo = SQLRepository(connection=connection)\n",
        "\n",
        "response = repo.insert_table(table_name = ticker, records=df_mtnoy, if_exists=\"replace\")"
      ],
      "metadata": {
        "id": "y11_08YHSlCg"
      },
      "execution_count": null,
      "outputs": []
    },
    {
      "cell_type": "markdown",
      "source": [],
      "metadata": {
        "id": "eYbt7rrWSlKQ"
      }
    },
    {
      "cell_type": "code",
      "source": [
        "%load_ext sql\n",
        "%sql sqlite:////home/jovyan/work/ds-curriculum/080-volatility-forecasting-in-india/stocks.sqlite"
      ],
      "metadata": {
        "id": "Mw6tEkG9SlQy"
      },
      "execution_count": null,
      "outputs": []
    },
    {
      "cell_type": "code",
      "source": [
        "sql=\"SELECT * FROM MTNOY\"\n",
        "df_mtnoy_read = pd.read_sql(\n",
        "    sql=sql, con=connection, parse_dates=[\"date\"], index_col=\"date\"\n",
        ")\n",
        "\n",
        "print(\"df_mtnoy_read type:\", type(df_mtnoy_read))\n",
        "print(\"df_mtnoy_read shape:\", df_mtnoy_read.shape)\n",
        "df_mtnoy_read.head()"
      ],
      "metadata": {
        "id": "-RHH-wJQS1rN"
      },
      "execution_count": null,
      "outputs": []
    },
    {
      "cell_type": "markdown",
      "source": [
        "Create a Series y_mtnoy with the 2,500 most recent returns for MTN."
      ],
      "metadata": {
        "id": "6-h-VlVpS8Pe"
      }
    },
    {
      "cell_type": "code",
      "source": [
        "def wrangle_data(ticker,n_observations):\n",
        "\n",
        "    \"\"\"Extract table data from database. Calculate returns.\n",
        "\n",
        "    Parameters\n",
        "    ----------\n",
        "    ticker : str\n",
        "        The ticker symbol of the stock (also table name in database).\n",
        "\n",
        "    n_observations : int\n",
        "        Number of observations to return.\n",
        "\n",
        "    Returns\n",
        "    -------\n",
        "    pd.Series\n",
        "        Name will be `\"return\"`. There will be no `NaN` values.\n",
        "    \"\"\"\n",
        "    # Get table from database\n",
        "    df =repo.read_table(table_name=ticker,limit=n_observations+1)\n",
        "\n",
        "    # Sort DataFrame ascending by date\n",
        "    df.sort_index(ascending = True, inplace=True)\n",
        "\n",
        "    # Create \"return\" column\n",
        "    df[\"return\"] = df[\"close\"].pct_change() * 100\n",
        "\n",
        "    # Return returns\n",
        "    return df[\"return\"].dropna()"
      ],
      "metadata": {
        "id": "GFKjsLYTS80f"
      },
      "execution_count": null,
      "outputs": []
    },
    {
      "cell_type": "code",
      "source": [
        "y_mtnoy = wrangle_data(ticker=\"MTNOY\", n_observations=2500)\n",
        "\n",
        "print(\"y_mtnoy type:\", type(y_mtnoy))\n",
        "print(\"y_mtnoy shape:\", y_mtnoy.shape)\n",
        "y_mtnoy.head()"
      ],
      "metadata": {
        "id": "6u211jFCTAzo"
      },
      "execution_count": null,
      "outputs": []
    },
    {
      "cell_type": "code",
      "source": [
        "fig, ax = plt.subplots(figsize=(15, 6))\n",
        "\n",
        "# Plot returns for `df_suzlon` and `df_ambuja`\n",
        "y_suzlon.plot(ax=ax, label=\"SUZLON\")\n",
        "y_ambuja.plot(ax=ax, label=\"AMBUJACEM\")\n",
        "\n",
        "# Label axes\n",
        "plt.xlabel(\"Date\")\n",
        "plt.ylabel(\"Return\")\n",
        "\n",
        "# Add legend\n",
        "plt.legend();"
      ],
      "metadata": {
        "id": "VUm09mSuTDsv"
      },
      "execution_count": null,
      "outputs": []
    },
    {
      "cell_type": "markdown",
      "source": [
        "Calculate daily volatility for y_mtnoy, and assign the result to mtnoy_daily_volatility."
      ],
      "metadata": {
        "id": "9FjpxYF_TEe1"
      }
    },
    {
      "cell_type": "code",
      "source": [
        "import numpy as np"
      ],
      "metadata": {
        "id": "jcOI21LCTJee"
      },
      "execution_count": null,
      "outputs": []
    },
    {
      "cell_type": "code",
      "source": [
        "mtnoy_annual_volatility = mtnoy_daily_volatility * np.sqrt(252)\n",
        "\n",
        "print(\"mtnoy_annual_volatility type:\", type(mtnoy_annual_volatility))\n",
        "print(\"MTN Annual Volatility:\", mtnoy_annual_volatility)"
      ],
      "metadata": {
        "id": "VjcDjUmBTJiy"
      },
      "execution_count": null,
      "outputs": []
    },
    {
      "cell_type": "code",
      "source": [],
      "metadata": {
        "id": "06vk_glYTJpG"
      },
      "execution_count": null,
      "outputs": []
    },
    {
      "cell_type": "markdown",
      "source": [
        "Create a time series line plot for y_mtnoy. Be sure to label the x-axis \"Date\", the y-axis \"Returns\", and use the title \"Time Series of MTNOY Returns\"."
      ],
      "metadata": {
        "id": "1t-ou2JAS-8-"
      }
    },
    {
      "cell_type": "code",
      "source": [
        "# Create `fig` and `ax`\n",
        "fig, ax = plt.subplots(figsize=(15, 6))\n",
        "\n",
        "# Plot `y_mtnoy` on `ax`\n",
        "y_mtnoy.plot(ax=ax)\n",
        "\n",
        "# Add axis labels\n",
        "plt.xlabel(\"Date\")\n",
        "plt.ylabel(\"Return\")\n",
        "\n",
        "# Add title\n",
        "plt.title(\"Time Series of MTNOY Returns\");\n",
        "\n",
        "# Don't delete the code below 👇\n",
        "plt.savefig(\"images/8-5-11.png\", dpi=150)\n"
      ],
      "metadata": {
        "id": "pF6WnjFWTPIK"
      },
      "execution_count": null,
      "outputs": []
    },
    {
      "cell_type": "code",
      "source": [
        "from statsmodels.graphics.tsaplots import plot_acf, plot_pacf\n",
        "# Create `fig` and `ax`\n",
        "fig, ax = plt.subplots(figsize=(15, 6))\n",
        "\n",
        "# Create ACF of squared returns\n",
        "plot_acf(y_mtnoy**2, ax=ax)\n",
        "\n",
        "# Add axis labels\n",
        "plt.xlabel(\"Lag [days]\")\n",
        "plt.ylabel(\"Correlation Coefficient\");\n",
        "\n",
        "\n",
        "# Add title\n",
        "plt.title(\"ACF of MTNOY Squared Returns\")\n",
        "\n",
        "# Don't delete the code below 👇\n",
        "plt.savefig(\"images/8-5-12.png\", dpi=150)\n"
      ],
      "metadata": {
        "id": "0Xn27LvXTRbl"
      },
      "execution_count": null,
      "outputs": []
    },
    {
      "cell_type": "markdown",
      "source": [
        "Create a PACF plot of the squared returns for MTN. Be sure to label the x-axis \"Lag [days]\", the y-axis \"Correlation Coefficient\", and use the title \"PACF of MTNOY Squared Returns\""
      ],
      "metadata": {
        "id": "tpfKvguoTVzL"
      }
    },
    {
      "cell_type": "code",
      "source": [
        "# Create `fig` and `ax`\n",
        "fig, ax = plt.subplots(figsize=(15, 6))\n",
        "\n",
        "# Create PACF of squared returns\n",
        "plot_pacf(y_mtnoy**2, ax=ax)\n",
        "\n",
        "# Add axis labels\n",
        "plt.xlabel(\"Lag [days]\")\n",
        "plt.ylabel(\"Correlation Coefficient\")\n",
        "\n",
        "# Add title\n",
        "plt.title(\"PACF of MTNOY Squared Returns\")\n",
        "\n",
        "# Don't delete the code below 👇\n",
        "plt.savefig(\"images/8-5-13.png\", dpi=150)\n"
      ],
      "metadata": {
        "id": "3WVTHIEZTWO2"
      },
      "execution_count": null,
      "outputs": []
    },
    {
      "cell_type": "code",
      "source": [
        "#Create a training set y_mtnoy_train that contains the first 80% of the observations in y_mtnoy\n",
        "cutoff_test = int(len(y_mtnoy) * 0.8)\n",
        "y_mtnoy_train = y_mtnoy.iloc[:cutoff_test]  #walk forward validation\n",
        "\n",
        "print(\"y_mtnoy_train type:\", type(y_mtnoy_train))\n",
        "print(\"y_mtnoy_train shape:\", y_mtnoy_train.shape)\n",
        "y_mtnoy_train.head()"
      ],
      "metadata": {
        "id": "3mDqVxq7TYan"
      },
      "execution_count": null,
      "outputs": []
    },
    {
      "cell_type": "markdown",
      "source": [
        "Build Model\n",
        "\n",
        " Build and fit a GARCH model using the data in y_mtnoy. Try different values for p and q, using the summary to assess its performance. The grader will evaluate whether your model is the correct data type."
      ],
      "metadata": {
        "id": "mF8BoCSMTiu3"
      }
    },
    {
      "cell_type": "code",
      "source": [
        "from arch import arch_model\n",
        "# Build and train model\n",
        "model = arch_model(\n",
        "    y_mtnoy_train,\n",
        "    p=1, #changing from 3 to 2 because the values are not statistically significant\n",
        "    q=1, #no of beta terms according to the pacf model\n",
        "    rescale=False).fit(disp=0) # we dont want to see the whole details, hence display\n",
        "\n",
        "print(\"model type:\", type(model))\n",
        "\n",
        "# Show model summary\n",
        "model.summary() #we want the pvalues to be less than .05 to be statistically significant"
      ],
      "metadata": {
        "id": "ESxUse_tTf3v"
      },
      "execution_count": null,
      "outputs": []
    },
    {
      "cell_type": "code",
      "source": [
        "#Plot the standardized residuals for your model. Be sure to label the x-axis \"Date\", the y-axis \"Value\", and use the title \"MTNOY GARCH Model Standardized Residuals\"\n",
        "# Create `fig` and `ax`\n",
        "fig, ax = plt.subplots(figsize=(15, 6))\n",
        "\n",
        "# Plot standardized residuals\n",
        "model.std_resid.plot(ax=ax, label=\"standard residuals\")\n",
        "\n",
        "# Add axis labels\n",
        "plt.xlabel(\"Date\")\n",
        "plt.ylabel(\"Value\")\n",
        "\n",
        "\n",
        "# Add title\n",
        "plt.title(\"MTNOY GARCH Model Standardized Residuals\")\n",
        "\n",
        "# Don't delete the code below 👇\n",
        "plt.savefig(\"images/8-5-16.png\", dpi=150)\n"
      ],
      "metadata": {
        "id": "5-BvuehVTf8a"
      },
      "execution_count": null,
      "outputs": []
    },
    {
      "cell_type": "markdown",
      "source": [
        "Create an ACF plot of the squared, standardized residuals of your model. Be sure to label the x-axis \"Lag [days]\", the y-axis \"Correlation Coefficient\", and use the title \"ACF of MTNOY GARCH Model Standardized Residuals\""
      ],
      "metadata": {
        "id": "I_2cQWITTxgb"
      }
    },
    {
      "cell_type": "code",
      "source": [
        "# Create `fig` and `ax`\n",
        "fig, ax = plt.subplots(figsize=(15, 6))\n",
        "\n",
        "# Create ACF of squared, standardized residuals\n",
        "plot_acf(model.std_resid**2, ax=ax)\n",
        "\n",
        "# Add axis labels\n",
        "plt.xlabel(\"Lag [days]\")\n",
        "plt.ylabel(\"Correlation Coefficient\")\n",
        "\n",
        "# Add title\n",
        "plt.title(\"ACF of MTNOY GARCH Model Standardized Residuals\")\n",
        "\n",
        "# Don't delete the code below 👇\n",
        "plt.savefig(\"images/8-5-17.png\", dpi=150)\n"
      ],
      "metadata": {
        "id": "NF91HQ6vTu5_"
      },
      "execution_count": null,
      "outputs": []
    },
    {
      "cell_type": "code",
      "source": [],
      "metadata": {
        "id": "NZv0Tq4-T3MH"
      },
      "execution_count": null,
      "outputs": []
    },
    {
      "cell_type": "markdown",
      "source": [
        "Model Deployment"
      ],
      "metadata": {
        "id": "tHXAEtaaT3f3"
      }
    },
    {
      "cell_type": "markdown",
      "source": [
        "Change the fit method of your GarchModel class so that, when a model is done training, two more attributes are added to the object: self.aic with the AIC for the model, and self.bic with the BIC for the model. When you're done, use the cell below to check your work.\n",
        "\n",
        ": How can you access the AIC and BIC scores programmatically? Every ARCHModelResult has an .aic and a .bic attribute."
      ],
      "metadata": {
        "id": "3JLa29uhT9uf"
      }
    },
    {
      "cell_type": "code",
      "source": [
        "# Import `build_model` function\n",
        "from main import build_model\n",
        "\n",
        "# Build model using new `MTNOY` data\n",
        "model=build_model(ticker=\"MTNOY\", use_new_data=True)\n",
        "\n",
        "# Wrangle `MTNOY` returns\n",
        "model.wrangle_data(n_observations=2500)\n",
        "\n",
        "# Fit GARCH(1,1) model to data\n",
        "model.fit(p=1, q=1)\n",
        "\n",
        "# Does model have AIC and BIC attributes?\n",
        "assert hasattr(model, \"aic\")\n",
        "assert hasattr(model, \"bic\")"
      ],
      "metadata": {
        "id": "Y6MsiXzaT8Mg"
      },
      "execution_count": null,
      "outputs": []
    },
    {
      "cell_type": "code",
      "source": [
        "# Import `FitIn` class and `fit_model` function\n",
        "from main import FitIn, fit_model\n",
        "\n",
        "# Instantiate `FitIn` object\n",
        "request = FitIn(ticker=\"MTNOY\", use_new_data=False, n_observations=2500, p=1, q=1)\n",
        "\n",
        "# Build model and fit to data, following parameters in `request`\n",
        "fit_out = fit_model(request=request)\n",
        "\n",
        "# Inspect `fit_out`\n",
        "fit_out"
      ],
      "metadata": {
        "id": "thkvyAr6Tz-n"
      },
      "execution_count": null,
      "outputs": []
    },
    {
      "cell_type": "markdown",
      "source": [
        "Create a post request to hit the \"/fit\" path running at \"http://localhost:8008\". You should train a GARCH(1,1) model on 2500 observations of the MTN data you already downloaded. Pass in your parameters as a dictionary using the json argument. The grader will evaluate the JSON of your response"
      ],
      "metadata": {
        "id": "kOD9rCBXUJ0J"
      }
    },
    {
      "cell_type": "code",
      "source": [
        "# URL of `/fit` path\n",
        "url = \"http://localhost:8008/fit\"\n",
        "# Data to send to path\n",
        "json = {\n",
        "    \"ticker\":\"MTNOY\",\n",
        "    \"use_new_data\":False,\n",
        "    \"n_observations\":2000,\n",
        "    \"p\":1,\n",
        "    \"q\":1\n",
        "}\n",
        "# Response of post request\n",
        "response = requests.post(url=url, json=json)\n",
        "\n",
        "print(\"response type:\", type(response))\n",
        "print(\"response status code:\", response.status_code)"
      ],
      "metadata": {
        "id": "TqAKg65DUS_p"
      },
      "execution_count": null,
      "outputs": []
    },
    {
      "cell_type": "markdown",
      "source": [
        "Create a post request to hit the \"/predict\" path running at \"http://localhost:8008\". You should get the 5-day volatility forecast for MTN. When you're satisfied, submit your work to the grader."
      ],
      "metadata": {
        "id": "a1-iiq4ZUXoQ"
      }
    },
    {
      "cell_type": "code",
      "source": [
        "# URL of `/predict` path\n",
        "url = \"http://localhost:8008/predict\"\n",
        "# Data to send to path\n",
        "json = {\n",
        "    \"ticker\":\"MTNOY\",\n",
        "    \"n_days\":5\n",
        "}\n",
        "# Response of post request\n",
        "response = requests.post(url=url, json=json)\n",
        "\n",
        "print(\"response type:\", type(response))\n",
        "print(\"response status code:\", response.status_code)"
      ],
      "metadata": {
        "id": "EP79tM_VUYED"
      },
      "execution_count": null,
      "outputs": []
    }
  ]
}